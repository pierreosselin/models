{
 "cells": [
  {
   "cell_type": "code",
   "execution_count": 17,
   "metadata": {},
   "outputs": [],
   "source": [
    "import numpy as np\n",
    "import pandas as pd\n",
    "from sklearn.datasets import make_moons\n",
    "import matplotlib.pyplot as plt\n",
    "from itertools import cycle, islice"
   ]
  },
  {
   "cell_type": "code",
   "execution_count": 60,
   "metadata": {},
   "outputs": [],
   "source": [
    "#df = pd.read_csv(\"mushroom.data\", header=None)\n",
    "X, y = make_moons(100, )\n",
    "\n",
    "res = np.column_stack((X,y[:,None]))\n",
    "\n",
    "colors = np.array(list(islice(cycle(['#377eb8', '#ff7f00', '#4daf4a','#f781bf', '#a65628', '#984ea3','#999999', '#e41a1c', '#dede00']), int(max(y) + 1))))\n"
   ]
  },
  {
   "cell_type": "code",
   "execution_count": 62,
   "metadata": {},
   "outputs": [
    {
     "data": {
      "image/png": "[encoded data removed]",
      "text/plain": [
       "<Figure size 432x288 with 1 Axes>"
      ]
     },
     "metadata": {
      "needs_background": "light"
     },
     "output_type": "display_data"
    }
   ],
   "source": [
    "plt.scatter(X[:, 0], X[:, 1], s=10, color=colors[y])\n",
    "plt.savefig(\"MoonDataSet.pdf\")"
   ]
  },
  {
   "cell_type": "code",
   "execution_count": 34,
   "metadata": {},
   "outputs": [
    {
     "data": {
      "text/plain": [
       "array([[-9.97945393e-01,  6.40702200e-02,  0.00000000e+00],\n",
       "       [-4.04783343e-01,  9.14412623e-01,  0.00000000e+00],\n",
       "       [-9.49055747e-01,  3.15108218e-01,  0.00000000e+00],\n",
       "       [ 8.40400105e-01, -4.87181783e-01,  1.00000000e+00],\n",
       "       [ 9.26916757e-01,  3.75267005e-01,  0.00000000e+00],\n",
       "       [ 1.90096887e+00,  6.61162609e-02,  1.00000000e+00],\n",
       "       [ 5.09442530e-02,  1.84891782e-01,  1.00000000e+00],\n",
       "       [ 1.40478334e+00, -4.14412623e-01,  1.00000000e+00],\n",
       "       [-3.20515776e-02,  9.99486216e-01,  0.00000000e+00],\n",
       "       [ 2.38554042e-01, -1.48228395e-01,  1.00000000e+00],\n",
       "       [ 9.97945393e-01,  6.40702200e-02,  0.00000000e+00],\n",
       "       [-2.84527587e-01,  9.58667853e-01,  0.00000000e+00],\n",
       "       [ 1.94905575e+00,  1.84891782e-01,  1.00000000e+00],\n",
       "       [ 1.98586378e-01, -9.81105305e-02,  1.00000000e+00],\n",
       "       [ 6.23489802e-01,  7.81831482e-01,  0.00000000e+00],\n",
       "       [ 9.67294863e-01,  2.53654584e-01,  0.00000000e+00],\n",
       "       [ 1.96729486e+00,  2.46345416e-01,  1.00000000e+00],\n",
       "       [ 1.46253829e+00, -3.86599306e-01,  1.00000000e+00],\n",
       "       [ 1.99179001e+00,  3.72122838e-01,  1.00000000e+00],\n",
       "       [ 7.15472413e-01, -4.58667853e-01,  1.00000000e+00],\n",
       "       [-9.60230259e-02,  9.95379113e-01,  0.00000000e+00],\n",
       "       [ 1.84408430e-02,  3.08841371e-01,  1.00000000e+00],\n",
       "       [ 3.20515776e-02,  9.99486216e-01,  0.00000000e+00],\n",
       "       [ 8.20998618e-03,  3.72122838e-01,  1.00000000e+00],\n",
       "       [ 5.72116660e-01,  8.20172255e-01,  0.00000000e+00],\n",
       "       [ 5.95216657e-01, -4.14412623e-01,  1.00000000e+00],\n",
       "       [ 5.18392568e-01,  8.55142763e-01,  0.00000000e+00],\n",
       "       [-2.22520934e-01,  9.74927912e-01,  0.00000000e+00],\n",
       "       [ 2.84527587e-01,  9.58667853e-01,  0.00000000e+00],\n",
       "       [ 9.67948422e-01, -4.99486216e-01,  1.00000000e+00],\n",
       "       [-9.00968868e-01,  4.33883739e-01,  0.00000000e+00],\n",
       "       [ 9.81559157e-01,  1.91158629e-01,  0.00000000e+00],\n",
       "       [-5.18392568e-01,  8.55142763e-01,  0.00000000e+00],\n",
       "       [-1.59599895e-01,  9.87181783e-01,  0.00000000e+00],\n",
       "       [ 2.05460725e-03,  4.35929780e-01,  1.00000000e+00],\n",
       "       [-6.23489802e-01,  7.81831482e-01,  0.00000000e+00],\n",
       "       [ 3.45365054e-01,  9.38468422e-01,  0.00000000e+00],\n",
       "       [ 2.00000000e+00,  5.00000000e-01,  1.00000000e+00],\n",
       "       [ 2.22520934e-01,  9.74927912e-01,  0.00000000e+00],\n",
       "       [ 8.71318704e-01,  4.90717552e-01,  0.00000000e+00],\n",
       "       [ 0.00000000e+00,  5.00000000e-01,  1.00000000e+00],\n",
       "       [ 9.49055747e-01,  3.15108218e-01,  0.00000000e+00],\n",
       "       [ 1.99794539e+00,  4.35929780e-01,  1.00000000e+00],\n",
       "       [ 1.59599895e-01,  9.87181783e-01,  0.00000000e+00],\n",
       "       [ 1.34536505e+00, -4.38468422e-01,  1.00000000e+00],\n",
       "       [ 6.72300890e-01,  7.40277997e-01,  0.00000000e+00],\n",
       "       [ 1.98155916e+00,  3.08841371e-01,  1.00000000e+00],\n",
       "       [-1.00000000e+00,  1.22464680e-16,  0.00000000e+00],\n",
       "       [ 1.28452759e+00, -4.58667853e-01,  1.00000000e+00],\n",
       "       [ 4.04783343e-01,  9.14412623e-01,  0.00000000e+00],\n",
       "       [ 1.71834935e+00, -1.95682551e-01,  1.00000000e+00],\n",
       "       [ 4.62538290e-01,  8.86599306e-01,  0.00000000e+00],\n",
       "       [ 1.57211666e+00, -3.20172255e-01,  1.00000000e+00],\n",
       "       [ 1.92691676e+00,  1.24732995e-01,  1.00000000e+00],\n",
       "       [ 1.03205158e+00, -4.99486216e-01,  1.00000000e+00],\n",
       "       [-9.81559157e-01,  1.91158629e-01,  0.00000000e+00],\n",
       "       [-5.72116660e-01,  8.20172255e-01,  0.00000000e+00],\n",
       "       [ 3.27051370e-02,  2.46345416e-01,  1.00000000e+00],\n",
       "       [-9.26916757e-01,  3.75267005e-01,  0.00000000e+00],\n",
       "       [ 3.27699110e-01, -2.40277997e-01,  1.00000000e+00],\n",
       "       [ 8.38088105e-01,  5.45534901e-01,  0.00000000e+00],\n",
       "       [ 7.61445958e-01,  6.48228395e-01,  0.00000000e+00],\n",
       "       [ 4.81607432e-01, -3.55142763e-01,  1.00000000e+00],\n",
       "       [ 1.00000000e+00,  0.00000000e+00,  0.00000000e+00],\n",
       "       [ 3.76510198e-01, -2.81831482e-01,  1.00000000e+00],\n",
       "       [ 7.18349350e-01,  6.95682551e-01,  0.00000000e+00],\n",
       "       [ 9.00968868e-01,  4.33883739e-01,  0.00000000e+00],\n",
       "       [-6.72300890e-01,  7.40277997e-01,  0.00000000e+00],\n",
       "       [ 1.83808810e+00, -4.55349012e-02,  1.00000000e+00],\n",
       "       [-8.38088105e-01,  5.45534901e-01,  0.00000000e+00],\n",
       "       [ 9.60230259e-02,  9.95379113e-01,  0.00000000e+00],\n",
       "       [ 9.03976974e-01, -4.95379113e-01,  1.00000000e+00],\n",
       "       [ 5.37461710e-01, -3.86599306e-01,  1.00000000e+00],\n",
       "       [ 1.80141362e+00, -9.81105305e-02,  1.00000000e+00],\n",
       "       [-7.61445958e-01,  6.48228395e-01,  0.00000000e+00],\n",
       "       [ 9.90311321e-02,  6.61162609e-02,  1.00000000e+00],\n",
       "       [ 1.76144596e+00, -1.48228395e-01,  1.00000000e+00],\n",
       "       [ 4.27883340e-01, -3.20172255e-01,  1.00000000e+00],\n",
       "       [ 7.30832427e-02,  1.24732995e-01,  1.00000000e+00],\n",
       "       [ 1.15959990e+00, -4.87181783e-01,  1.00000000e+00],\n",
       "       [ 1.22252093e+00, -4.74927912e-01,  1.00000000e+00],\n",
       "       [ 8.01413622e-01,  5.98110530e-01,  0.00000000e+00],\n",
       "       [ 1.09602303e+00, -4.95379113e-01,  1.00000000e+00],\n",
       "       [-7.18349350e-01,  6.95682551e-01,  0.00000000e+00],\n",
       "       [ 1.87131870e+00,  9.28244800e-03,  1.00000000e+00],\n",
       "       [-8.71318704e-01,  4.90717552e-01,  0.00000000e+00],\n",
       "       [ 1.61911895e-01, -4.55349012e-02,  1.00000000e+00],\n",
       "       [ 9.91790014e-01,  1.27877162e-01,  0.00000000e+00],\n",
       "       [ 1.51839257e+00, -3.55142763e-01,  1.00000000e+00],\n",
       "       [ 7.77479066e-01, -4.74927912e-01,  1.00000000e+00],\n",
       "       [-4.62538290e-01,  8.86599306e-01,  0.00000000e+00],\n",
       "       [-3.45365054e-01,  9.38468422e-01,  0.00000000e+00],\n",
       "       [ 1.67230089e+00, -2.40277997e-01,  1.00000000e+00],\n",
       "       [ 1.62348980e+00, -2.81831482e-01,  1.00000000e+00],\n",
       "       [ 2.81650650e-01, -1.95682551e-01,  1.00000000e+00],\n",
       "       [-9.91790014e-01,  1.27877162e-01,  0.00000000e+00],\n",
       "       [ 1.28681296e-01,  9.28244800e-03,  1.00000000e+00],\n",
       "       [-8.01413622e-01,  5.98110530e-01,  0.00000000e+00],\n",
       "       [-9.67294863e-01,  2.53654584e-01,  0.00000000e+00],\n",
       "       [ 6.54634946e-01, -4.38468422e-01,  1.00000000e+00]])"
      ]
     },
     "execution_count": 34,
     "metadata": {},
     "output_type": "execute_result"
    }
   ],
   "source": [
    "res"
   ]
  },
  {
   "cell_type": "code",
   "execution_count": 35,
   "metadata": {},
   "outputs": [],
   "source": [
    "np.savetxt('moondata.csv', res, delimiter=',')"
   ]
  },
  {
   "cell_type": "code",
   "execution_count": 37,
   "metadata": {},
   "outputs": [],
   "source": [
    "df = pd.read_csv('moondata.csv', header=None)"
   ]
  },
  {
   "cell_type": "code",
   "execution_count": 39,
   "metadata": {},
   "outputs": [
    {
     "data": {
      "text/plain": [
       "(100, 3)"
      ]
     },
     "execution_count": 39,
     "metadata": {},
     "output_type": "execute_result"
    }
   ],
   "source": [
    "df.shape"
   ]
  },
  {
   "cell_type": "code",
   "execution_count": 40,
   "metadata": {},
   "outputs": [],
   "source": [
    "ind = np.random.choice(range(df.shape[0]), 200, replace=True)"
   ]
  },
  {
   "cell_type": "code",
   "execution_count": 41,
   "metadata": {},
   "outputs": [],
   "source": [
    "contexts = df.iloc[ind, :2]"
   ]
  },
  {
   "cell_type": "code",
   "execution_count": 45,
   "metadata": {},
   "outputs": [
    {
     "data": {
      "text/plain": [
       "numpy.ndarray"
      ]
     },
     "execution_count": 45,
     "metadata": {},
     "output_type": "execute_result"
    }
   ],
   "source": [
    "type(contexts.values)"
   ]
  },
  {
   "cell_type": "code",
   "execution_count": 56,
   "metadata": {},
   "outputs": [
    {
     "data": {
      "text/plain": [
       "numpy.float64"
      ]
     },
     "execution_count": 56,
     "metadata": {},
     "output_type": "execute_result"
    }
   ],
   "source": [
    "type(df.iloc[ind, 2].values[0])"
   ]
  },
  {
   "cell_type": "code",
   "execution_count": 53,
   "metadata": {},
   "outputs": [
    {
     "data": {
      "text/plain": [
       "array([1., 1., 1.])"
      ]
     },
     "execution_count": 53,
     "metadata": {},
     "output_type": "execute_result"
    }
   ],
   "source": [
    "np.ones(3)"
   ]
  },
  {
   "cell_type": "code",
   "execution_count": 57,
   "metadata": {},
   "outputs": [],
   "source": [
    "## Make XOR"
   ]
  },
  {
   "cell_type": "code",
   "execution_count": 68,
   "metadata": {},
   "outputs": [],
   "source": [
    "res = np.array([[0,0,0], [0,1,1], [1,0,1], [1,1,0]])\n",
    "np.savetxt('xordataset.csv', res, delimiter=',')"
   ]
  },
  {
   "cell_type": "code",
   "execution_count": 71,
   "metadata": {},
   "outputs": [
    {
     "data": {
      "image/png": "[encoded data removed]",
      "text/plain": [
       "<Figure size 432x288 with 1 Axes>"
      ]
     },
     "metadata": {
      "needs_background": "light"
     },
     "output_type": "display_data"
    }
   ],
   "source": [
    "plt.scatter(res[:, 0], res[:, 1], s=1000, color=colors[res[:, 2]])\n",
    "plt.savefig(\"XorDataSet.pdf\")"
   ]
  },
  {
   "cell_type": "code",
   "execution_count": null,
   "metadata": {},
   "outputs": [],
   "source": []
  }
 ],
 "metadata": {
  "kernelspec": {
   "display_name": "Python 3",
   "language": "python",
   "name": "python3"
  },
  "language_info": {
   "codemirror_mode": {
    "name": "ipython",
    "version": 3
   },
   "file_extension": ".py",
   "mimetype": "text/x-python",
   "name": "python",
   "nbconvert_exporter": "python",
   "pygments_lexer": "ipython3",
   "version": "3.7.4"
  }
 },
 "nbformat": 4,
 "nbformat_minor": 2
}
